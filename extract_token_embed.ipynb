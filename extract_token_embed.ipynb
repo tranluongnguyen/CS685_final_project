{
 "cells": [
  {
   "cell_type": "code",
   "execution_count": 1,
   "metadata": {},
   "outputs": [],
   "source": [
    "import matplotlib.pyplot as plt\n",
    "import numpy as np\n",
    "import pandas as pd\n",
    "%matplotlib inline\n",
    "from collections import OrderedDict\n",
    "import os\n",
    "import time\n",
    "import math\n",
    "import pickle\n",
    "# from contextlib import nullcontext\n",
    "import glob\n",
    "\n",
    "import torch\n",
    "\n",
    "device = 'cuda'\n",
    "device_type = 'cuda' if 'cuda' in device else 'cpu' # for later use in torch.autocast\n"
   ]
  },
  {
   "cell_type": "code",
   "execution_count": 6,
   "metadata": {},
   "outputs": [],
   "source": [
    "ckpt_path = \"out/adapt2_vietnamese_active_forget/ckpt_best.pt\"\n",
    "new_ckpt_path = os.path.join(os.path.dirname(ckpt_path), \"only_embed.pt\")\n",
    "checkpoint = torch.load(ckpt_path, map_location=device)"
   ]
  },
  {
   "cell_type": "code",
   "execution_count": 7,
   "metadata": {},
   "outputs": [],
   "source": [
    "state_dict = checkpoint['model']"
   ]
  },
  {
   "cell_type": "code",
   "execution_count": 8,
   "metadata": {},
   "outputs": [],
   "source": [
    "state_dict.keys()\n",
    "\n",
    "tok_state_dict = OrderedDict()\n",
    "\n",
    "tok_state_dict['transformer.wte.weight'] = state_dict['transformer.wte.weight']\n",
    "tok_state_dict['transformer.wpe.weight'] = state_dict['transformer.wpe.weight']"
   ]
  },
  {
   "cell_type": "code",
   "execution_count": 9,
   "metadata": {},
   "outputs": [],
   "source": [
    "new_checkpoint = {'model': tok_state_dict}\n",
    "torch.save(new_checkpoint, new_ckpt_path)"
   ]
  }
 ],
 "metadata": {
  "kernelspec": {
   "display_name": "LGM",
   "language": "python",
   "name": "python3"
  },
  "language_info": {
   "codemirror_mode": {
    "name": "ipython",
    "version": 3
   },
   "file_extension": ".py",
   "mimetype": "text/x-python",
   "name": "python",
   "nbconvert_exporter": "python",
   "pygments_lexer": "ipython3",
   "version": "3.10.13"
  }
 },
 "nbformat": 4,
 "nbformat_minor": 2
}
